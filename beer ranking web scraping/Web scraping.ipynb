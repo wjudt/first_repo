{
 "cells": [
  {
   "cell_type": "markdown",
   "id": "7f6bc61b",
   "metadata": {},
   "source": [
    "### Importing modules"
   ]
  },
  {
   "cell_type": "code",
   "execution_count": 183,
   "id": "3a6e5036",
   "metadata": {},
   "outputs": [],
   "source": [
    "import requests\n",
    "import json\n",
    "import re\n",
    "import numpy as np\n",
    "import pandas as pd\n",
    "from bs4 import BeautifulSoup"
   ]
  },
  {
   "cell_type": "markdown",
   "id": "2e00a88f",
   "metadata": {},
   "source": [
    "### Scraping"
   ]
  },
  {
   "cell_type": "code",
   "execution_count": 201,
   "id": "48576862",
   "metadata": {
    "code_folding": [],
    "scrolled": false
   },
   "outputs": [],
   "source": [
    "#wyciągniecie zupki do web scrapingu\n",
    "web = requests.get('https://www.beeradvocate.com/beer/styles/').text\n",
    "soup = BeautifulSoup(web, 'lxml')\n",
    "\n",
    "#znalezienie klasy z głównymi stylami piwa\n",
    "beers = soup.find('div', class_ = 'stylebreak')\n",
    "beer_s_name = beers.find('b').text #nazwa klasy\n",
    "\n",
    "#wyszukanie klasy z podstylem piwa\n",
    "beer_groups = beers.find('li')\n",
    "beer_subs_name = beer_groups.text #nazwa podklasy\n",
    "beer_subs_link = 'https://www.beeradvocate.com' + beer_groups.a['href'] #link do podklasy do dalszego scrapingu\n",
    "\n",
    "#dostanie się do konkretnego piwa i browaru z podstylu\n",
    "subs_web = requests.get(beer_subs_link).text\n",
    "subs_soup = BeautifulSoup(subs_web, 'lxml')\n",
    "subs_record = subs_soup.find_all('tr')[3]\n",
    "subs_lcol = subs_record.find('td', class_ = 'hr_bottom_light') #znalezienie danych tylko z pierwszej kolumny tabeli\n",
    "subs_lcol_items = subs_lcol.find_all('a', href=True) #wyciągnięcie pozycji z pierwszej kolumny tabeli\n",
    "\n",
    "subs_names = [item.text for item in subs_lcol_items]\n",
    "subs_links = ['https://www.beeradvocate.com' + item['href'] for item in subs_lcol_items]\n",
    "\n",
    "subs_beer_name, subs_brew_name = [subs_names[i] for i, x in enumerate(subs_names)]\n",
    "subs_beer_link, subs_brew_link = [subs_links[i] for i, x in enumerate(subs_links)]\n",
    "\n",
    "#scrapowanie konkretnego piwa\n",
    "beer_web = requests.get(subs_beer_link).text\n",
    "beer_soup = BeautifulSoup(beer_web, 'lxml')\n",
    "beer = beer_soup.find('dl', class_ = 'beerstats')\n",
    "beer_params = beer.find_all('dd', class_ = 'beerstats')\n",
    "beer_params_text = [item.text.strip() for item in beer_params]\n",
    "beer_params_text.pop(8)\n",
    "beer_brewery_name, beer_country, beer_style_rank_glued, beer_abv, beer_score_rank_glued, beer_avg_dev_glued, beer_ratings, beer_active, beer_added, beer_wants, beer_gots = [beer_params_text[i] for i, x in enumerate(beer_params_text)]\n",
    "\n",
    "#wszystkie wielkości wyscrapowane z piwek\n",
    "# beer_brewery_name = #Name of brewery which the beer comes from\n",
    "# beer_country = #Name of country which the beer comes from\n",
    "beer_style = beer_style_rank_glued.split('Ranked #')[0] #Style of beer\n",
    "beer_rank_in_style = beer_style_rank_glued.split('Ranked #')[1] #Rank of beer in his style\n",
    "beer_abv = beer_abv[:-1] #Voltage\n",
    "beer_score = beer_score_rank_glued.split('Ranked #')[0] #Score on the website\n",
    "beer_rank = beer_score_rank_glued.split('Ranked #')[1] #Position in the ranking\n",
    "beer_avg = beer_avg_dev_glued.split('| pDev:')[0].strip() #Average score across all ratings\n",
    "beer_dev_prc = beer_avg_dev_glued.split('| pDev:')[1].strip()[:-1] #Percentage value of deviation from average score\n",
    "# beer_ratings = #Number of ratings for this beer\n",
    "# beer_active = #Current activity status\n",
    "# beer_added = #When the beer was added\n",
    "# beer_wants = #Number of users who want this beer\n",
    "# beer_gots = #Number of users who have this beer\n",
    "\n",
    "#scrapowanie konkretnego browaru\n",
    "brewery_web = requests.get(subs_brew_link).text\n",
    "brewery_soup = BeautifulSoup(brewery_web, 'lxml')\n",
    "brewery = brewery_soup.find('div', class_ = 'break')\n",
    "\n",
    "#scrapowanie po tagu 'a'\n",
    "brewery_a_tag = brewery.find_all('a', href=True)\n",
    "brewery_a_tag_text = [item.text for item in brewery_a_tag]\n",
    "brewery_a_tag_links = [item['href'] for item in brewery_a_tag]\n",
    "if len(brewery_a_tag_text) == 4:\n",
    "    brewery_a_tag_text.insert(1, \"\")\n",
    "    brewery_a_tag_links.insert(1, \"\")\n",
    "        \n",
    "brewery_a_tag_scraped = brewery_a_tag_text[:3] + brewery_a_tag_links[-2:]\n",
    "brewery_city, brewery_state, brewery_country, brewery_location, brewery_website = [brewery_a_tag_scraped[i] for i, x in enumerate(brewery_a_tag_scraped)]\n",
    "\n",
    "#rzeczy wyscrapowane z browarów z tagu 'a'\n",
    "# brewery_city\n",
    "# brewery_state\n",
    "# brewery_country\n",
    "# brewery_location\n",
    "# brewery_website\n",
    "\n",
    "#próba wyscrapowania reszty z browarów\n",
    "brewery_info_list = brewery.text.split('\\n') #split on new line symbol\n",
    "brewery_info_list= [x for x in brewery_info_list if x != ''] #deleting empty strings\n",
    "brewery_type = brewery_info_list[0].strip().split(',')\n",
    "brewery_notes = \"\".join(brewery_info_list).split(\"Notes:\")[-1].strip()\n",
    "brewery_rest = brewery_info_list[1]\n",
    "brewery_adress = brewery_rest.split(brewery_city)[0]\n",
    "brewery_city_state_concat = brewery_city+ \", \" + brewery_state\n",
    "brewery_postal_code = brewery_rest.split(brewery_city_state_concat)[1].split(brewery_country)[0].replace(\", \",\"\")\n",
    "brewery_telephone = brewery_rest.split(brewery_country)[1].split(\"|\")[0].strip()\n",
    "\n",
    "#rzeczy wyscrapowane z browarów z reszty danych\n",
    "# brewery_type\n",
    "# brewery_adress\n",
    "# brewery_postal_code\n",
    "# brewery_telephone\n",
    "# brewery_notes"
   ]
  }
 ],
 "metadata": {
  "kernelspec": {
   "display_name": "Python 3",
   "language": "python",
   "name": "python3"
  },
  "language_info": {
   "codemirror_mode": {
    "name": "ipython",
    "version": 3
   },
   "file_extension": ".py",
   "mimetype": "text/x-python",
   "name": "python",
   "nbconvert_exporter": "python",
   "pygments_lexer": "ipython3",
   "version": "3.8.8"
  },
  "varInspector": {
   "cols": {
    "lenName": 16,
    "lenType": 16,
    "lenVar": 40
   },
   "kernels_config": {
    "python": {
     "delete_cmd_postfix": "",
     "delete_cmd_prefix": "del ",
     "library": "var_list.py",
     "varRefreshCmd": "print(var_dic_list())"
    },
    "r": {
     "delete_cmd_postfix": ") ",
     "delete_cmd_prefix": "rm(",
     "library": "var_list.r",
     "varRefreshCmd": "cat(var_dic_list()) "
    }
   },
   "oldHeight": 537.55,
   "position": {
    "height": "559.55px",
    "left": "1002.2px",
    "right": "20px",
    "top": "100px",
    "width": "498px"
   },
   "types_to_exclude": [
    "module",
    "function",
    "builtin_function_or_method",
    "instance",
    "_Feature"
   ],
   "varInspector_section_display": "block",
   "window_display": false
  }
 },
 "nbformat": 4,
 "nbformat_minor": 5
}
