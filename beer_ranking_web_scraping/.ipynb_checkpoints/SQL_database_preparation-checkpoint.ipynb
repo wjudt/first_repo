{
 "cells": [
  {
   "cell_type": "markdown",
   "id": "886c97ca",
   "metadata": {},
   "source": [
    "### Import libraries"
   ]
  },
  {
   "cell_type": "code",
   "execution_count": null,
   "id": "b4521b6a",
   "metadata": {},
   "outputs": [],
   "source": []
  },
  {
   "cell_type": "markdown",
   "id": "932d7c4e",
   "metadata": {},
   "source": [
    "### Import hdf from sftp server and read it as dataframe"
   ]
  },
  {
   "cell_type": "code",
   "execution_count": null,
   "id": "1067c167",
   "metadata": {},
   "outputs": [],
   "source": []
  },
  {
   "cell_type": "markdown",
   "id": "72ecd15a",
   "metadata": {},
   "source": [
    "### Lists with unique values for certain columns which will be used as a dimensions in sql database"
   ]
  },
  {
   "cell_type": "code",
   "execution_count": null,
   "id": "45694924",
   "metadata": {},
   "outputs": [],
   "source": [
    "#dict of countries and states\n",
    "country_states_dict = dict.fromkeys(list(df['beer_country'].unique()), np.nan)\n",
    "for key in country_states_dict:\n",
    "    mask_country = df['beer_country'] == key\n",
    "    country_states_dict[key] = list(df['beer_state'].loc[mask_country].unique())\n",
    "\n",
    "#dict of styles and substyles\n",
    "beer_styles_list = list(df['name of style'].unique())\n",
    "beer_styles_dict = dict.fromkeys(beer_styles_list, np.nan)\n",
    "for key in beer_styles_dict:\n",
    "    mask_style = df['name of style'] == key\n",
    "    beer_styles_dict[key] = list(df['name_of_substyle'].loc[mask_style].unique())\n",
    "    \n",
    "#list of abv\n",
    "abv_list = list(df['abv [%]'].unique())\n",
    "abv_db_key = np.arange(0, max(abv_list) + 8.1, 0.1)\n",
    "\n",
    "#list of breweries\n",
    "brewery_list = list(df['brewery_name'].unique())\n",
    "\n",
    "#list of unique brewery types\n",
    "brewery_types_unique_list = []\n",
    "for value in traverse_objects(list(df['brewery_type'])):\n",
    "    if value.strip() not in brewery_types_unique_list:\n",
    "        brewery_types_unique_list.append(value.strip())\n",
    "        \n",
    "#also we can use as a dimension: active, date_added, "
   ]
  }
 ],
 "metadata": {
  "kernelspec": {
   "display_name": "Python 3",
   "language": "python",
   "name": "python3"
  },
  "language_info": {
   "codemirror_mode": {
    "name": "ipython",
    "version": 3
   },
   "file_extension": ".py",
   "mimetype": "text/x-python",
   "name": "python",
   "nbconvert_exporter": "python",
   "pygments_lexer": "ipython3",
   "version": "3.8.8"
  },
  "varInspector": {
   "cols": {
    "lenName": 16,
    "lenType": 16,
    "lenVar": 40
   },
   "kernels_config": {
    "python": {
     "delete_cmd_postfix": "",
     "delete_cmd_prefix": "del ",
     "library": "var_list.py",
     "varRefreshCmd": "print(var_dic_list())"
    },
    "r": {
     "delete_cmd_postfix": ") ",
     "delete_cmd_prefix": "rm(",
     "library": "var_list.r",
     "varRefreshCmd": "cat(var_dic_list()) "
    }
   },
   "types_to_exclude": [
    "module",
    "function",
    "builtin_function_or_method",
    "instance",
    "_Feature"
   ],
   "window_display": false
  }
 },
 "nbformat": 4,
 "nbformat_minor": 5
}
