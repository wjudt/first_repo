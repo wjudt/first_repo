{
 "cells": [
  {
   "cell_type": "markdown",
   "id": "607efbbb",
   "metadata": {},
   "source": [
    "### Import libraries"
   ]
  },
  {
   "cell_type": "code",
   "execution_count": 1,
   "id": "8bce7061",
   "metadata": {},
   "outputs": [],
   "source": [
    "import pysftp\n",
    "import re\n",
    "import numpy as np\n",
    "import pandas as pd\n",
    "\n",
    "from urllib3.exceptions import InsecureRequestWarning\n",
    "from urllib3 import disable_warnings\n",
    "import warnings\n",
    "disable_warnings(InsecureRequestWarning)\n",
    "warnings.simplefilter(action='ignore', category=pd.errors.PerformanceWarning)\n",
    "pd.options.mode.chained_assignment = None"
   ]
  },
  {
   "cell_type": "markdown",
   "id": "b6101bd7",
   "metadata": {},
   "source": [
    "### Functions used in a project"
   ]
  },
  {
   "cell_type": "code",
   "execution_count": null,
   "id": "116024f5",
   "metadata": {},
   "outputs": [],
   "source": [
    "#traversing iterator through list of lists\n",
    "def traverse_objects(obj, types = (list, tuple)):\n",
    "    if isinstance(obj, types):\n",
    "        for value in obj:\n",
    "            for subvalue in traverse_objects(value, types):\n",
    "                yield subvalue\n",
    "    else:\n",
    "        yield obj"
   ]
  },
  {
   "cell_type": "markdown",
   "id": "9700b9bc",
   "metadata": {},
   "source": [
    "### Import hdf from sftp server"
   ]
  },
  {
   "cell_type": "code",
   "execution_count": 4,
   "id": "05cb9634",
   "metadata": {
    "scrolled": true
   },
   "outputs": [
    {
     "name": "stdout",
     "output_type": "stream",
     "text": [
      "Connected to sftp server\n",
      "File \"beers.h5\" downloaded correctly\n"
     ]
    }
   ],
   "source": [
    "sftpHost = \"localhost\"\n",
    "sftpPort = 22\n",
    "uname = \"wojci\"\n",
    "privateKeyFilePath = \"./id_rsa\"\n",
    "\n",
    "cnOpts = pysftp.CnOpts()\n",
    "cnOpts.hostkeys = None\n",
    "\n",
    "with pysftp.Connection(host=sftpHost, username=uname, private_key=privateKeyFilePath, cnopts=cnOpts) as sftp:\n",
    "    print(\"Connected to sftp server\")\n",
    "    sftp.cwd(\"./beer_files\")\n",
    "    sftp.get(\"./beer_files.h5\", \"./downloaded_from_sftp/beers.h5\", preserve_mtime=True)\n",
    "    print('File \"beers.h5\" downloaded correctly')"
   ]
  },
  {
   "cell_type": "markdown",
   "id": "aebd1cd0",
   "metadata": {},
   "source": [
    "### Read imported file as DataFrame"
   ]
  },
  {
   "cell_type": "code",
   "execution_count": 6,
   "id": "1b5ffdd0",
   "metadata": {
    "scrolled": true
   },
   "outputs": [
    {
     "data": {
      "text/html": [
       "<div>\n",
       "<style scoped>\n",
       "    .dataframe tbody tr th:only-of-type {\n",
       "        vertical-align: middle;\n",
       "    }\n",
       "\n",
       "    .dataframe tbody tr th {\n",
       "        vertical-align: top;\n",
       "    }\n",
       "\n",
       "    .dataframe thead th {\n",
       "        text-align: right;\n",
       "    }\n",
       "</style>\n",
       "<table border=\"1\" class=\"dataframe\">\n",
       "  <thead>\n",
       "    <tr style=\"text-align: right;\">\n",
       "      <th></th>\n",
       "      <th>beer_name</th>\n",
       "      <th>name of style</th>\n",
       "      <th>name_of_substyle</th>\n",
       "      <th>beer_country</th>\n",
       "      <th>beer_state</th>\n",
       "      <th>rank_in_style</th>\n",
       "      <th>score</th>\n",
       "      <th>rank</th>\n",
       "      <th>abv [%]</th>\n",
       "      <th>avg_score</th>\n",
       "      <th>...</th>\n",
       "      <th>brewery_city</th>\n",
       "      <th>brewery_state</th>\n",
       "      <th>brewery_country</th>\n",
       "      <th>brewery_map</th>\n",
       "      <th>brewery_website</th>\n",
       "      <th>brewery_type</th>\n",
       "      <th>brewery_adress</th>\n",
       "      <th>brewery_postal_code</th>\n",
       "      <th>brewery_telephone</th>\n",
       "      <th>brewery_notes</th>\n",
       "    </tr>\n",
       "  </thead>\n",
       "  <tbody>\n",
       "    <tr>\n",
       "      <th>0</th>\n",
       "      <td>Ayinger Celebrator</td>\n",
       "      <td>Bocks</td>\n",
       "      <td>Bock - Doppelbock</td>\n",
       "      <td>Germany</td>\n",
       "      <td>NaN</td>\n",
       "      <td>1.0</td>\n",
       "      <td>96.0</td>\n",
       "      <td>879.0</td>\n",
       "      <td>6.7</td>\n",
       "      <td>4.34</td>\n",
       "      <td>...</td>\n",
       "      <td>Aying</td>\n",
       "      <td>NaN</td>\n",
       "      <td>Germany</td>\n",
       "      <td>https://maps.google.com/maps?oi=map&amp;q=M%C3%BCn...</td>\n",
       "      <td>http://ayinger-bier.de</td>\n",
       "      <td>[Brewery,  Bar,  Eatery]</td>\n",
       "      <td>Münchener Straße 21</td>\n",
       "      <td>85653</td>\n",
       "      <td>08095-90650</td>\n",
       "      <td>NaN</td>\n",
       "    </tr>\n",
       "    <tr>\n",
       "      <th>1</th>\n",
       "      <td>Troegenator</td>\n",
       "      <td>Bocks</td>\n",
       "      <td>Bock - Doppelbock</td>\n",
       "      <td>United States</td>\n",
       "      <td>Pennsylvania</td>\n",
       "      <td>48.0</td>\n",
       "      <td>88.0</td>\n",
       "      <td>13560.0</td>\n",
       "      <td>8.2</td>\n",
       "      <td>3.95</td>\n",
       "      <td>...</td>\n",
       "      <td>Hershey</td>\n",
       "      <td>Pennsylvania</td>\n",
       "      <td>United States</td>\n",
       "      <td>https://maps.google.com/maps?oi=map&amp;q=200+East...</td>\n",
       "      <td>http://troegs.com</td>\n",
       "      <td>[Brewery,  Bar,  Eatery,  Beer-to-go]</td>\n",
       "      <td>200 East</td>\n",
       "      <td>17033</td>\n",
       "      <td>(717) 534-1297</td>\n",
       "      <td>Sunday-Wednesday 11am-9pmThursday - sat 11am-1...</td>\n",
       "    </tr>\n",
       "    <tr>\n",
       "      <th>2</th>\n",
       "      <td>Spaten Optimator</td>\n",
       "      <td>Bocks</td>\n",
       "      <td>Bock - Doppelbock</td>\n",
       "      <td>Germany</td>\n",
       "      <td>NaN</td>\n",
       "      <td>75.0</td>\n",
       "      <td>87.0</td>\n",
       "      <td>16263.0</td>\n",
       "      <td>7.6</td>\n",
       "      <td>3.90</td>\n",
       "      <td>...</td>\n",
       "      <td>München</td>\n",
       "      <td>NaN</td>\n",
       "      <td>Germany</td>\n",
       "      <td>https://maps.google.com/maps?oi=map&amp;q=Mars+Str...</td>\n",
       "      <td>http://franziskaner-weissbier.de</td>\n",
       "      <td>[Brewery]</td>\n",
       "      <td>Mars Strasse 46-48</td>\n",
       "      <td>80335</td>\n",
       "      <td>(089) 51 221</td>\n",
       "      <td>OWNED BY ANHEUSER-BUSCH INBEVSee also: http://...</td>\n",
       "    </tr>\n",
       "    <tr>\n",
       "      <th>3</th>\n",
       "      <td>Salvator</td>\n",
       "      <td>Bocks</td>\n",
       "      <td>Bock - Doppelbock</td>\n",
       "      <td>Germany</td>\n",
       "      <td>NaN</td>\n",
       "      <td>57.0</td>\n",
       "      <td>88.0</td>\n",
       "      <td>14654.0</td>\n",
       "      <td>7.9</td>\n",
       "      <td>3.93</td>\n",
       "      <td>...</td>\n",
       "      <td>München</td>\n",
       "      <td>NaN</td>\n",
       "      <td>Germany</td>\n",
       "      <td>https://maps.google.com/maps?oi=map&amp;q=Hochstra...</td>\n",
       "      <td>http://paulaner.de</td>\n",
       "      <td>[Brewery]</td>\n",
       "      <td>Hochstraße 75</td>\n",
       "      <td>81541</td>\n",
       "      <td>089 / 4 80 051</td>\n",
       "      <td>NaN</td>\n",
       "    </tr>\n",
       "    <tr>\n",
       "      <th>4</th>\n",
       "      <td>Weihenstephaner Korbinian</td>\n",
       "      <td>Bocks</td>\n",
       "      <td>Bock - Doppelbock</td>\n",
       "      <td>Germany</td>\n",
       "      <td>NaN</td>\n",
       "      <td>5.0</td>\n",
       "      <td>93.0</td>\n",
       "      <td>2924.0</td>\n",
       "      <td>7.4</td>\n",
       "      <td>4.20</td>\n",
       "      <td>...</td>\n",
       "      <td>Freising</td>\n",
       "      <td>NaN</td>\n",
       "      <td>Germany</td>\n",
       "      <td>https://maps.google.com/maps?oi=map&amp;q=Alte+Aka...</td>\n",
       "      <td>http://weihenstephaner.de</td>\n",
       "      <td>[Brewery,  Bar,  Eatery,  Beer-to-go]</td>\n",
       "      <td>Alte Akademie 2</td>\n",
       "      <td>85354</td>\n",
       "      <td>+49 8161 5360</td>\n",
       "      <td>NaN</td>\n",
       "    </tr>\n",
       "  </tbody>\n",
       "</table>\n",
       "<p>5 rows × 27 columns</p>\n",
       "</div>"
      ],
      "text/plain": [
       "                   beer_name name of style   name_of_substyle   beer_country  \\\n",
       "0         Ayinger Celebrator         Bocks  Bock - Doppelbock        Germany   \n",
       "1                Troegenator         Bocks  Bock - Doppelbock  United States   \n",
       "2           Spaten Optimator         Bocks  Bock - Doppelbock        Germany   \n",
       "3                   Salvator         Bocks  Bock - Doppelbock        Germany   \n",
       "4  Weihenstephaner Korbinian         Bocks  Bock - Doppelbock        Germany   \n",
       "\n",
       "     beer_state  rank_in_style  score     rank  abv [%]  avg_score  ...  \\\n",
       "0           NaN            1.0   96.0    879.0      6.7       4.34  ...   \n",
       "1  Pennsylvania           48.0   88.0  13560.0      8.2       3.95  ...   \n",
       "2           NaN           75.0   87.0  16263.0      7.6       3.90  ...   \n",
       "3           NaN           57.0   88.0  14654.0      7.9       3.93  ...   \n",
       "4           NaN            5.0   93.0   2924.0      7.4       4.20  ...   \n",
       "\n",
       "   brewery_city  brewery_state brewery_country  \\\n",
       "0         Aying            NaN         Germany   \n",
       "1       Hershey   Pennsylvania   United States   \n",
       "2       München            NaN         Germany   \n",
       "3       München            NaN         Germany   \n",
       "4      Freising            NaN         Germany   \n",
       "\n",
       "                                         brewery_map  \\\n",
       "0  https://maps.google.com/maps?oi=map&q=M%C3%BCn...   \n",
       "1  https://maps.google.com/maps?oi=map&q=200+East...   \n",
       "2  https://maps.google.com/maps?oi=map&q=Mars+Str...   \n",
       "3  https://maps.google.com/maps?oi=map&q=Hochstra...   \n",
       "4  https://maps.google.com/maps?oi=map&q=Alte+Aka...   \n",
       "\n",
       "                    brewery_website                           brewery_type  \\\n",
       "0            http://ayinger-bier.de               [Brewery,  Bar,  Eatery]   \n",
       "1                 http://troegs.com  [Brewery,  Bar,  Eatery,  Beer-to-go]   \n",
       "2  http://franziskaner-weissbier.de                              [Brewery]   \n",
       "3                http://paulaner.de                              [Brewery]   \n",
       "4         http://weihenstephaner.de  [Brewery,  Bar,  Eatery,  Beer-to-go]   \n",
       "\n",
       "        brewery_adress brewery_postal_code brewery_telephone  \\\n",
       "0  Münchener Straße 21               85653       08095-90650   \n",
       "1            200 East                17033    (717) 534-1297   \n",
       "2   Mars Strasse 46-48               80335      (089) 51 221   \n",
       "3        Hochstraße 75               81541    089 / 4 80 051   \n",
       "4      Alte Akademie 2               85354     +49 8161 5360   \n",
       "\n",
       "                                       brewery_notes  \n",
       "0                                                NaN  \n",
       "1  Sunday-Wednesday 11am-9pmThursday - sat 11am-1...  \n",
       "2  OWNED BY ANHEUSER-BUSCH INBEVSee also: http://...  \n",
       "3                                                NaN  \n",
       "4                                                NaN  \n",
       "\n",
       "[5 rows x 27 columns]"
      ]
     },
     "execution_count": 6,
     "metadata": {},
     "output_type": "execute_result"
    }
   ],
   "source": [
    "df = pd.read_hdf('./downloaded_from_sftp/beers.h5', key='df', mode='r')\n",
    "df.head()"
   ]
  },
  {
   "cell_type": "markdown",
   "id": "c8835124",
   "metadata": {},
   "source": [
    "### Lists with unique values for certain columns which will be used as a dimensions in sql database"
   ]
  },
  {
   "cell_type": "code",
   "execution_count": 7,
   "id": "5446ff4e",
   "metadata": {},
   "outputs": [
    {
     "ename": "NameError",
     "evalue": "name 'traverse_objects' is not defined",
     "output_type": "error",
     "traceback": [
      "\u001b[1;31m---------------------------------------------------------------------------\u001b[0m",
      "\u001b[1;31mNameError\u001b[0m                                 Traceback (most recent call last)",
      "\u001b[1;32m<ipython-input-7-d009db1e726a>\u001b[0m in \u001b[0;36m<module>\u001b[1;34m\u001b[0m\n\u001b[0;32m     21\u001b[0m \u001b[1;31m#list of unique brewery types\u001b[0m\u001b[1;33m\u001b[0m\u001b[1;33m\u001b[0m\u001b[1;33m\u001b[0m\u001b[0m\n\u001b[0;32m     22\u001b[0m \u001b[0mbrewery_types_unique_list\u001b[0m \u001b[1;33m=\u001b[0m \u001b[1;33m[\u001b[0m\u001b[1;33m]\u001b[0m\u001b[1;33m\u001b[0m\u001b[1;33m\u001b[0m\u001b[0m\n\u001b[1;32m---> 23\u001b[1;33m \u001b[1;32mfor\u001b[0m \u001b[0mvalue\u001b[0m \u001b[1;32min\u001b[0m \u001b[0mtraverse_objects\u001b[0m\u001b[1;33m(\u001b[0m\u001b[0mlist\u001b[0m\u001b[1;33m(\u001b[0m\u001b[0mdf\u001b[0m\u001b[1;33m[\u001b[0m\u001b[1;34m'brewery_type'\u001b[0m\u001b[1;33m]\u001b[0m\u001b[1;33m)\u001b[0m\u001b[1;33m)\u001b[0m\u001b[1;33m:\u001b[0m\u001b[1;33m\u001b[0m\u001b[1;33m\u001b[0m\u001b[0m\n\u001b[0m\u001b[0;32m     24\u001b[0m     \u001b[1;32mif\u001b[0m \u001b[0mvalue\u001b[0m\u001b[1;33m.\u001b[0m\u001b[0mstrip\u001b[0m\u001b[1;33m(\u001b[0m\u001b[1;33m)\u001b[0m \u001b[1;32mnot\u001b[0m \u001b[1;32min\u001b[0m \u001b[0mbrewery_types_unique_list\u001b[0m\u001b[1;33m:\u001b[0m\u001b[1;33m\u001b[0m\u001b[1;33m\u001b[0m\u001b[0m\n\u001b[0;32m     25\u001b[0m         \u001b[0mbrewery_types_unique_list\u001b[0m\u001b[1;33m.\u001b[0m\u001b[0mappend\u001b[0m\u001b[1;33m(\u001b[0m\u001b[0mvalue\u001b[0m\u001b[1;33m.\u001b[0m\u001b[0mstrip\u001b[0m\u001b[1;33m(\u001b[0m\u001b[1;33m)\u001b[0m\u001b[1;33m)\u001b[0m\u001b[1;33m\u001b[0m\u001b[1;33m\u001b[0m\u001b[0m\n",
      "\u001b[1;31mNameError\u001b[0m: name 'traverse_objects' is not defined"
     ]
    }
   ],
   "source": [
    "#dict of countries and states\n",
    "country_states_dict = dict.fromkeys(list(df['beer_country'].unique()), np.nan)\n",
    "for key in country_states_dict:\n",
    "    mask_country = df['beer_country'] == key\n",
    "    country_states_dict[key] = list(df['beer_state'].loc[mask_country].unique())\n",
    "\n",
    "#dict of styles and substyles\n",
    "beer_styles_list = list(df['name of style'].unique())\n",
    "beer_styles_dict = dict.fromkeys(beer_styles_list, np.nan)\n",
    "for key in beer_styles_dict:\n",
    "    mask_style = df['name of style'] == key\n",
    "    beer_styles_dict[key] = list(df['name_of_substyle'].loc[mask_style].unique())\n",
    "    \n",
    "#list of abv\n",
    "abv_list = list(df['abv [%]'].unique())\n",
    "abv_db_key = np.arange(0, max(abv_list) + 8.1, 0.1)\n",
    "\n",
    "#list of breweries\n",
    "brewery_list = list(df['brewery_name'].unique())\n",
    "\n",
    "#list of unique brewery types\n",
    "brewery_types_unique_list = []\n",
    "for value in traverse_objects(list(df['brewery_type'])):\n",
    "    if value.strip() not in brewery_types_unique_list:\n",
    "        brewery_types_unique_list.append(value.strip())\n",
    "brewery_types_unique_list\n",
    "#also we can use as a dimension: active, date_added, "
   ]
  }
 ],
 "metadata": {
  "kernelspec": {
   "display_name": "Python 3",
   "language": "python",
   "name": "python3"
  },
  "language_info": {
   "codemirror_mode": {
    "name": "ipython",
    "version": 3
   },
   "file_extension": ".py",
   "mimetype": "text/x-python",
   "name": "python",
   "nbconvert_exporter": "python",
   "pygments_lexer": "ipython3",
   "version": "3.8.8"
  },
  "varInspector": {
   "cols": {
    "lenName": 16,
    "lenType": 16,
    "lenVar": 40
   },
   "kernels_config": {
    "python": {
     "delete_cmd_postfix": "",
     "delete_cmd_prefix": "del ",
     "library": "var_list.py",
     "varRefreshCmd": "print(var_dic_list())"
    },
    "r": {
     "delete_cmd_postfix": ") ",
     "delete_cmd_prefix": "rm(",
     "library": "var_list.r",
     "varRefreshCmd": "cat(var_dic_list()) "
    }
   },
   "types_to_exclude": [
    "module",
    "function",
    "builtin_function_or_method",
    "instance",
    "_Feature"
   ],
   "window_display": false
  }
 },
 "nbformat": 4,
 "nbformat_minor": 5
}
